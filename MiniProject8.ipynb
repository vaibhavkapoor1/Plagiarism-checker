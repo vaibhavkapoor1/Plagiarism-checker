{
  "nbformat": 4,
  "nbformat_minor": 0,
  "metadata": {
    "colab": {
      "provenance": [],
      "authorship_tag": "ABX9TyOjFn0ypmx/ePMp5dkTYZo8",
      "include_colab_link": true
    },
    "kernelspec": {
      "name": "python3",
      "display_name": "Python 3"
    },
    "language_info": {
      "name": "python"
    }
  },
  "cells": [
    {
      "cell_type": "markdown",
      "metadata": {
        "id": "view-in-github",
        "colab_type": "text"
      },
      "source": [
        "<a href=\"https://colab.research.google.com/github/vaibhavkapoor1/Plagiarism-checker/blob/main/MiniProject8.ipynb\" target=\"_parent\"><img src=\"https://colab.research.google.com/assets/colab-badge.svg\" alt=\"Open In Colab\"/></a>"
      ]
    },
    {
      "cell_type": "code",
      "execution_count": 1,
      "metadata": {
        "id": "vwUmj5zVUWBK"
      },
      "outputs": [],
      "source": [
        "# Import necessary modules!\n",
        "import os  # Module for interacting with the operating system\n",
        "from sklearn.feature_extraction.text import TfidfVectorizer  # Module for text vectorization using TF-IDF\n",
        "from sklearn.metrics.pairwise import cosine_similarity  # Module for calculating cosine similarity"
      ]
    },
    {
      "cell_type": "code",
      "source": [
        "# Get a list of all text files in the current directory\n",
        "student_files = [doc for doc in os.listdir() if doc.endswith('.txt')]"
      ],
      "metadata": {
        "id": "h8Glf23cVH0R"
      },
      "execution_count": 8,
      "outputs": []
    },
    {
      "cell_type": "code",
      "source": [
        "# Read the contents of each student's text file\n",
        "student_notes = [open(_file, encoding='utf-8').read() for _file in student_files]"
      ],
      "metadata": {
        "id": "EizQnbDnVKUW"
      },
      "execution_count": 9,
      "outputs": []
    },
    {
      "cell_type": "code",
      "source": [
        "# Function to vectorize the text using TF-IDF\n",
        "def vectorize(Text):\n",
        "    return TfidfVectorizer().fit_transform(Text).toarray()"
      ],
      "metadata": {
        "id": "tRTivY8oVMDF"
      },
      "execution_count": 10,
      "outputs": []
    },
    {
      "cell_type": "code",
      "source": [
        "# Function to calculate cosine similarity between two documents\n",
        "def similarity(doc1, doc2):\n",
        "    return cosine_similarity([doc1, doc2])"
      ],
      "metadata": {
        "id": "32fFgFaHVNMs"
      },
      "execution_count": 11,
      "outputs": []
    },
    {
      "cell_type": "code",
      "source": [
        "# Vectorize the student notes using TF-IDF\n",
        "vectors = vectorize(student_notes)\n",
        "s_vectors = list(zip(student_files, vectors))\n",
        "plagiarism_results = set()"
      ],
      "metadata": {
        "id": "b-xqIBP4VOqC"
      },
      "execution_count": 12,
      "outputs": []
    },
    {
      "cell_type": "code",
      "source": [
        "# Function to check plagiarism among the student notes\n",
        "def check_plagiarism():\n",
        "    global s_vectors\n",
        "    for student_a, text_vector_a in s_vectors:\n",
        "        new_vectors = s_vectors.copy()\n",
        "        current_index = new_vectors.index((student_a, text_vector_a))\n",
        "        del new_vectors[current_index]\n",
        "        for student_b, text_vector_b in new_vectors:\n",
        "            # Calculate cosine similarity between two text vectors\n",
        "            sim_score = similarity(text_vector_a, text_vector_b)[0][1]\n",
        "            # Sort the student file names alphabetically to avoid duplicates\n",
        "            student_pair = sorted((student_a, student_b))\n",
        "            # Create a tuple with student file names and similarity score\n",
        "            score = (student_pair[0], student_pair[1], sim_score)\n",
        "            # Add the tuple to plagiarism_results set\n",
        "            plagiarism_results.add(score)\n",
        "    return plagiarism_results"
      ],
      "metadata": {
        "id": "tIu9TVhoXHaF"
      },
      "execution_count": 15,
      "outputs": []
    },
    {
      "cell_type": "code",
      "source": [
        "# Print the plagiarism results\n",
        "for data in check_plagiarism():\n",
        "    print(\"Similarity data:\\n\", data)\n"
      ],
      "metadata": {
        "colab": {
          "base_uri": "https://localhost:8080/"
        },
        "id": "ZJLk_AQSVQAF",
        "outputId": "0284989b-ffd9-46ac-ece5-847f5062e4db"
      },
      "execution_count": 16,
      "outputs": [
        {
          "output_type": "stream",
          "name": "stdout",
          "text": [
            "Similarity data:\n",
            " ('Ben.txt', 'Clark.txt', 0.4089048844003469)\n",
            "Similarity data:\n",
            " ('Arthur.txt', 'Ben.txt', 0.4595329317649594)\n",
            "Similarity data:\n",
            " ('Arthur.txt', 'Clark.txt', 0.5430431121089814)\n"
          ]
        }
      ]
    },
    {
      "cell_type": "code",
      "source": [],
      "metadata": {
        "id": "P1kqFARCW18D"
      },
      "execution_count": null,
      "outputs": []
    }
  ]
}